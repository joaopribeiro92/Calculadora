{
  "nbformat": 4,
  "nbformat_minor": 0,
  "metadata": {
    "colab": {
      "name": "Calculadora - Python.ipynb",
      "provenance": [],
      "collapsed_sections": [],
      "authorship_tag": "ABX9TyPuraZ+EJbyM0q8e1lda3yA",
      "include_colab_link": true
    },
    "kernelspec": {
      "name": "python3",
      "display_name": "Python 3"
    },
    "language_info": {
      "name": "python"
    }
  },
  "cells": [
    {
      "cell_type": "markdown",
      "metadata": {
        "id": "view-in-github",
        "colab_type": "text"
      },
      "source": [
        "<a href=\"https://colab.research.google.com/github/joaopribeiro92/Calculadora/blob/main/Calculadora_Python.ipynb\" target=\"_parent\"><img src=\"https://colab.research.google.com/assets/colab-badge.svg\" alt=\"Open In Colab\"/></a>"
      ]
    },
    {
      "cell_type": "code",
      "execution_count": null,
      "metadata": {
        "colab": {
          "base_uri": "https://localhost:8080/"
        },
        "id": "_nkUg3Z6y_TI",
        "outputId": "9b375cdc-754b-4688-ad6e-d787ec152017"
      },
      "outputs": [
        {
          "output_type": "stream",
          "name": "stdout",
          "text": [
            "Calculadora - SENAI FATEC Cuiabá\n",
            "Qual a sua operação deseja fazer?\n"
          ]
        }
      ],
      "source": [
        "prompt = \"Calculadora - SENAI FATEC Cuiabá\"\n",
        "msg = \"Qual a sua operação deseja fazer?\"\n",
        "flag = True\n",
        "\n",
        "print(prompt)\n",
        "print(msg)\n",
        "\n",
        "while flag:\n",
        "\n",
        "  operacao = input(\"(Soma - So / Subtração - Sub / Multiplicaçã - Mul / Divisão / Div): \")\n",
        "\n",
        "  if operacao.lower() == \"so\":\n",
        "    print(\"Soma\")\n",
        "    x = int(input(\"Digite um número inteiro positivo: \"))\n",
        "    y = int(input(\"Digite um número inteiro positivo: \"))\n",
        "    resultado = x + y\n",
        "    print(resultado)\n",
        "    break\n",
        "\n",
        "  if operacao.lower() == \"sub\":\n",
        "    print(\"Subtração\")\n",
        "    x = int(input(\"Digite um número inteiro positivo: \"))\n",
        "    y = int(input(\"Digite um número inteiro positivo: \"))\n",
        "    resultado = x - y\n",
        "    print(resultado)\n",
        "    break\n",
        "\n",
        "  if operacao.lower() == \"mul\":\n",
        "    print(\"Multiplicação\")\n",
        "    x = int(input(\"Digite um número inteiro positivo: \"))\n",
        "    y = int(input(\"Digite um número inteiro positivo: \"))\n",
        "    resultado = x * y\n",
        "    print(resultado)\n",
        "    break\n",
        "\n",
        "  if operacao.lower() == \"div\":\n",
        "    print(\"Divisão\")\n",
        "    x = int(input(\"Digite um número inteiro positivo: \"))\n",
        "    y = int(input(\"Digite um número inteiro positivo: \"))\n",
        "    resultado = x / y\n",
        "    print(resultado)\n",
        "    break\n"
      ]
    }
  ]
}